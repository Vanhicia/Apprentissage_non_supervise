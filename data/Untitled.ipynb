{
 "cells": [
  {
   "cell_type": "code",
   "execution_count": null,
   "metadata": {},
   "outputs": [],
   "source": [
    "from scipy.io import arff\n",
    "path = \"./data/\"\n",
    "dataset_bruite = arff.loadarff(open(path + 'bruite.arff', 'r'))\n",
    "data_bruite = dataset_bruite['0']['data']\n",
    "\n",
    "\n"
   ]
  },
  {
   "cell_type": "code",
   "execution_count": null,
   "metadata": {},
   "outputs": [],
   "source": []
  },
  {
   "cell_type": "code",
   "execution_count": null,
   "metadata": {},
   "outputs": [],
   "source": [
    "dataset_connexe = arff.loadarff(open(path + 'connexe_petites_taches.arff', 'r'))\n",
    "data_connexe = dataset_connexe['0']['data']\n",
    "\n",
    "dataset_non_connexe = arff.loadarff(open(path + 'non_connexe.arff', 'r'))\n",
    "data_non_connexe = dataset_non_connexe['0']['data']\n",
    "\n",
    "\n",
    "dataset_densite_variable = arff.loadarff(open(path + 'non_densite_variable.arff', 'r'))\n",
    "data_densite_variable = dataset_densite_variable['0']['data']\n",
    "\n",
    "dataset_densite_non_variable = dataset_non_connexe\n",
    "data_densite_variable = dataset_densite_non_variable['0']['data']"
   ]
  }
 ],
 "metadata": {
  "kernelspec": {
   "display_name": "Python 3",
   "language": "python",
   "name": "python3"
  },
  "language_info": {
   "codemirror_mode": {
    "name": "ipython",
    "version": 3
   },
   "file_extension": ".py",
   "mimetype": "text/x-python",
   "name": "python",
   "nbconvert_exporter": "python",
   "pygments_lexer": "ipython3",
   "version": "3.7.5"
  }
 },
 "nbformat": 4,
 "nbformat_minor": 2
}
